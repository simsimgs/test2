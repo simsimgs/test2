{
  "nbformat": 4,
  "nbformat_minor": 0,
  "metadata": {
    "colab": {
      "provenance": [],
      "authorship_tag": "ABX9TyMEDKLljVsZv6DwdPGYkzd8",
      "include_colab_link": true
    },
    "kernelspec": {
      "name": "python3",
      "display_name": "Python 3"
    },
    "language_info": {
      "name": "python"
    }
  },
  "cells": [
    {
      "cell_type": "markdown",
      "metadata": {
        "id": "view-in-github",
        "colab_type": "text"
      },
      "source": [
        "<a href=\"https://colab.research.google.com/github/simsimgs/test2/blob/main/250715.ipynb\" target=\"_parent\"><img src=\"https://colab.research.google.com/assets/colab-badge.svg\" alt=\"Open In Colab\"/></a>"
      ]
    },
    {
      "cell_type": "markdown",
      "source": [
        "ipynb py"
      ],
      "metadata": {
        "id": "cOteBVL5StXT"
      }
    },
    {
      "cell_type": "code",
      "source": [
        "print(\"Hello, Colab\")\n",
        "print(\"Python 데이터 분석을 시작합니다!\")\n",
        "\n",
        "#변수 선언\n",
        "name = \"데이터 분석가\"\n",
        "print(f\"안녕하세요, {name} 님!\")\n",
        "\n",
        "#간단한 계산\n",
        "result = 10 + 20"
      ],
      "metadata": {
        "colab": {
          "base_uri": "https://localhost:8080/"
        },
        "id": "QWIBqeEfS256",
        "outputId": "06e94876-6e96-46ba-d307-a7d30fd45313"
      },
      "execution_count": 14,
      "outputs": [
        {
          "output_type": "stream",
          "name": "stdout",
          "text": [
            "Hello, Colab\n",
            "Python 데이터 분석을 시작합니다!\n",
            "안녕하세요, 데이터 분석가 님!\n"
          ]
        }
      ]
    },
    {
      "cell_type": "code",
      "source": [],
      "metadata": {
        "id": "3Lj1rov7UP_d"
      },
      "execution_count": 14,
      "outputs": []
    },
    {
      "cell_type": "markdown",
      "source": [
        "# lec 2\n",
        "\n",
        "hi\n",
        "\n",
        "## lecllec2\n",
        "### lecleclec"
      ],
      "metadata": {
        "id": "aRME71b4Uqr8"
      }
    },
    {
      "cell_type": "code",
      "source": [],
      "metadata": {
        "id": "OErU_SloU5vy"
      },
      "execution_count": 14,
      "outputs": []
    },
    {
      "cell_type": "code",
      "source": [],
      "metadata": {
        "id": "Xtvx4gccUswL"
      },
      "execution_count": 14,
      "outputs": []
    },
    {
      "cell_type": "code",
      "metadata": {
        "colab": {
          "base_uri": "https://localhost:8080/"
        },
        "id": "eafdb1a8",
        "outputId": "3807b7ad-2459-47e1-ab31-ffec4a86e6be"
      },
      "source": [
        "def calculator():\n",
        "    \"\"\"간단한 사칙연산 계산기 함수\"\"\"\n",
        "    try:\n",
        "        # 사용자로부터 숫자와 연산 입력받기\n",
        "        num1 = float(input(\"첫 번째 숫자를 입력하세요: \"))\n",
        "        operator = input(\"연산자(+, -, *, /)를 입력하세요: \")\n",
        "        num2 = float(input(\"두 번째 숫자를 입력하세요: \"))\n",
        "\n",
        "        # 연산 수행 및 결과 출력\n",
        "        if operator == '+':\n",
        "            result = num1 + num2\n",
        "            print(f\"{num1} + {num2} = {result}\")\n",
        "        elif operator == '-':\n",
        "            result = num1 - num2\n",
        "            print(f\"{num1} - {num2} = {result}\")\n",
        "        elif operator == '*':\n",
        "            result = num1 * num2\n",
        "            print(f\"{num1} * {num2} = {result}\")\n",
        "        elif operator == '/':\n",
        "            if num2 == 0:\n",
        "                print(\"0으로 나눌 수 없습니다.\")\n",
        "            else:\n",
        "                result = num1 / num2\n",
        "                print(f\"{num1} / {num2} = {result}\")\n",
        "        else:\n",
        "            print(\"유효하지 않은 연산자입니다.\")\n",
        "\n",
        "    except ValueError:\n",
        "        print(\"유효하지 않은 입력입니다. 숫자를 입력해주세요.\")\n",
        "\n",
        "# 계산기 함수 호출\n",
        "calculator()"
      ],
      "execution_count": 15,
      "outputs": [
        {
          "output_type": "stream",
          "name": "stdout",
          "text": [
            "첫 번째 숫자를 입력하세요: 10\n",
            "연산자(+, -, *, /)를 입력하세요: +\n",
            "두 번째 숫자를 입력하세요: 5\n",
            "10.0 + 5.0 = 15.0\n"
          ]
        }
      ]
    }
  ]
}